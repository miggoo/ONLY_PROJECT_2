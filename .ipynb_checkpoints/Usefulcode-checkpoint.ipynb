{
 "cells": [
  {
   "cell_type": "code",
   "execution_count": 20,
   "metadata": {},
   "outputs": [
    {
     "data": {
      "text/plain": [
       "[('1', '3'), ('1', '9'), ('3', '9')]"
      ]
     },
     "execution_count": 20,
     "metadata": {},
     "output_type": "execute_result"
    }
   ],
   "source": [
    "# #Find all possible combinations of variables in a list, output as tuples, control lenth of tuples\n",
    "\n",
    "import itertools as it\n",
    "A = [\"1\",'3','9']\n",
    "one = list(it.combinations([\"2\",'5','12'],2))#LISTOFITEMSTOBECOMBINED, AS VARIABLE NAME OR IN LIST FORM, items per tuple#\n",
    "two =list(it.combinations([\"2\",'5','12'],3))\n",
    "three = list(it.combinations(A,2))\n",
    "\n",
    "print(one,two,three)\n",
    "\n",
    "def rrobin(x,y):\n",
    "    import itertools as it\n",
    "    z = list(it.combinations(x,y))\n",
    "    return z\n",
    "rrobin(A,2)"
   ]
  },
  {
   "cell_type": "code",
   "execution_count": null,
   "metadata": {},
   "outputs": [],
   "source": [
    "def q_a_t_t_l(y1,y2):\n",
    "    q1 = q.loc[(q['Quartiles'] == 1)]\n",
    "    q2 = q.loc[(q['Quartiles'] == 2)]\n",
    "    q3 = q.loc[(q['Quartiles'] == 3)]\n",
    "    q4 = q.loc[(q['Quartiles'] == 4)]\n",
    "\n",
    "    pgy1 = q.loc[q['IndustryId']==89,f\"{y1}\"].sum().tolist()\n",
    "    psy1= q.loc[q['IndustryId']==90,f\"{y1}\"].sum().tolist()\n",
    "    gsy1= q.loc[q['IndustryId']==82,f\"{y1}\"].sum().tolist()\n",
    "    sumy1 = pgy1 + psy1 +gsy1\n",
    "    # ost0 = brl.loc[brl['Renewal % Change'] == '0%', 'Account Name'].tolist()\n",
    "    pgy2 = q.loc[q['IndustryId']==89,f\"{y2}\"].sum().tolist()\n",
    "    psy2= q.loc[q['IndustryId']==90,f\"{y2}\"].sum().tolist()\n",
    "    gsy2= q.loc[q['IndustryId']==82,f\"{y2}\"].sum().tolist()\n",
    "    sumy2 = pgy2 + psy2 +gsy2\n",
    "    return ([pgy1,psy1,gsy1,sumy1],[pgy2,psy2,gsy2,sumy2])\n",
    "q_a_t_t_l('2001','2016')"
   ]
  },
  {
   "cell_type": "code",
   "execution_count": null,
   "metadata": {},
   "outputs": [],
   "source": []
  }
 ],
 "metadata": {
  "kernelspec": {
   "display_name": "Python 3",
   "language": "python",
   "name": "python3"
  },
  "language_info": {
   "codemirror_mode": {
    "name": "ipython",
    "version": 3
   },
   "file_extension": ".py",
   "mimetype": "text/x-python",
   "name": "python",
   "nbconvert_exporter": "python",
   "pygments_lexer": "ipython3",
   "version": "3.6.6"
  }
 },
 "nbformat": 4,
 "nbformat_minor": 2
}
